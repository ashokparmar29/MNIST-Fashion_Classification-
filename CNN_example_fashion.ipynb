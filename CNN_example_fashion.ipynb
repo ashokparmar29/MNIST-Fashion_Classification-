{
  "nbformat": 4,
  "nbformat_minor": 0,
  "metadata": {
    "colab": {
      "name": "CNN_example_fashion.ipynb",
      "provenance": []
    },
    "kernelspec": {
      "name": "python3",
      "display_name": "Python 3"
    },
    "language_info": {
      "name": "python"
    }
  },
  "cells": [
    {
      "cell_type": "code",
      "metadata": {
        "colab": {
          "base_uri": "https://localhost:8080/"
        },
        "id": "VgkC8saIZba3",
        "outputId": "c9d6e535-fdd8-48b3-8801-ac62b2a9ad40"
      },
      "source": [
        "from keras.datasets import fashion_mnist\n",
        "(train_X,train_Y), (test_X,test_Y) = fashion_mnist.load_data()"
      ],
      "execution_count": null,
      "outputs": [
        {
          "output_type": "stream",
          "text": [
            "Downloading data from https://storage.googleapis.com/tensorflow/tf-keras-datasets/train-labels-idx1-ubyte.gz\n",
            "32768/29515 [=================================] - 0s 0us/step\n",
            "40960/29515 [=========================================] - 0s 0us/step\n",
            "Downloading data from https://storage.googleapis.com/tensorflow/tf-keras-datasets/train-images-idx3-ubyte.gz\n",
            "26427392/26421880 [==============================] - 0s 0us/step\n",
            "26435584/26421880 [==============================] - 0s 0us/step\n",
            "Downloading data from https://storage.googleapis.com/tensorflow/tf-keras-datasets/t10k-labels-idx1-ubyte.gz\n",
            "16384/5148 [===============================================================================================] - 0s 0us/step\n",
            "Downloading data from https://storage.googleapis.com/tensorflow/tf-keras-datasets/t10k-images-idx3-ubyte.gz\n",
            "4423680/4422102 [==============================] - 0s 0us/step\n",
            "4431872/4422102 [==============================] - 0s 0us/step\n"
          ],
          "name": "stdout"
        }
      ]
    },
    {
      "cell_type": "code",
      "metadata": {
        "colab": {
          "base_uri": "https://localhost:8080/"
        },
        "id": "mVKwzlIza2iM",
        "outputId": "a8edef8b-573d-4e62-aed3-718faba21f6f"
      },
      "source": [
        "import tensorflow as tf \n",
        "from tensorflow import keras\n",
        "import numpy as np\n",
        "print(\"TF version:\", tf.__version__)\n",
        "import itertools\n",
        "import os\n",
        "import tensorflow_hub as hub\n",
        "#print(\"Hub version:\", hub.__version__)\n",
        "#print(\"GPU is\", \"available\" if tf.test.is_gpu_available() else \"NOT AVAILABLE\")"
      ],
      "execution_count": null,
      "outputs": [
        {
          "output_type": "stream",
          "text": [
            "TF version: 2.5.0\n"
          ],
          "name": "stdout"
        }
      ]
    },
    {
      "cell_type": "code",
      "metadata": {
        "colab": {
          "base_uri": "https://localhost:8080/"
        },
        "id": "m0057GIBb0Dw",
        "outputId": "86c1c648-b38b-4dcc-da6f-679eeaab568c"
      },
      "source": [
        "\n",
        "#from keras.utils import to_categorical\n",
        "import matplotlib.pyplot as plt\n",
        "%matplotlib inline\n",
        "\n",
        "print('Training data shape : ', train_X.shape, train_Y.shape)\n",
        "\n",
        "print('Testing data shape : ', test_X.shape, test_Y.shape)"
      ],
      "execution_count": null,
      "outputs": [
        {
          "output_type": "stream",
          "text": [
            "Training data shape :  (60000, 28, 28) (60000,)\n",
            "Testing data shape :  (10000, 28, 28) (10000,)\n"
          ],
          "name": "stdout"
        }
      ]
    },
    {
      "cell_type": "markdown",
      "metadata": {
        "id": "bnjyvbSf_gZc"
      },
      "source": [
        ""
      ]
    },
    {
      "cell_type": "code",
      "metadata": {
        "colab": {
          "base_uri": "https://localhost:8080/"
        },
        "id": "lGAzzC1PccKB",
        "outputId": "02f3b792-2fbe-4d88-d8fb-614a59cbbab0"
      },
      "source": [
        "classes = np.unique(train_Y)\n",
        "nClasses = len(classes)\n",
        "print('Total number of outputs : ', nClasses)\n",
        "print('Output classes : ', classes)"
      ],
      "execution_count": null,
      "outputs": [
        {
          "output_type": "stream",
          "text": [
            "Total number of outputs :  10\n",
            "Output classes :  [0 1 2 3 4 5 6 7 8 9]\n"
          ],
          "name": "stdout"
        }
      ]
    },
    {
      "cell_type": "code",
      "metadata": {
        "colab": {
          "base_uri": "https://localhost:8080/",
          "height": 208
        },
        "id": "w2ZYomaHhQBz",
        "outputId": "df83cf4d-61f3-4bcc-8d01-7f0db9cea7a0"
      },
      "source": [
        "plt.figure(figsize=[5,5])\n",
        "\n",
        "# Display the first image in training data\n",
        "plt.subplot(121)\n",
        "plt.(train_X[0,:,:], cmap='gray')\n",
        "plt.title(\"Ground Truth : {}\".format(train_Y[0]))\n",
        "\n",
        "# Display the first image in testing data\n",
        "plt.subplot(122)\n",
        "plt.imshimshowow(test_X[0,:,:], cmap='gray')\n",
        "plt.title(\"Ground Truth : {}\".format(test_Y[0]))"
      ],
      "execution_count": null,
      "outputs": [
        {
          "output_type": "execute_result",
          "data": {
            "text/plain": [
              "Text(0.5, 1.0, 'Ground Truth : 9')"
            ]
          },
          "metadata": {
            "tags": []
          },
          "execution_count": 6
        },
        {
          "output_type": "display_data",
          "data": {
            "image/png": "[encoded data removed]",
            "text/plain": [
              "<Figure size 360x360 with 2 Axes>"
            ]
          },
          "metadata": {
            "tags": [],
            "needs_background": "light"
          }
        }
      ]
    },
    {
      "cell_type": "code",
      "metadata": {
        "id": "Rt8waP4YjbDe"
      },
      "source": [
        "help(np.reshape)"
      ],
      "execution_count": null,
      "outputs": []
    },
    {
      "cell_type": "code",
      "metadata": {
        "colab": {
          "base_uri": "https://localhost:8080/"
        },
        "id": "F8SdQCyOQGO9",
        "outputId": "4ae324b4-7d78-4f18-af7f-e9c00c6901f6"
      },
      "source": [
        "train_X = train_X.reshape(-1, 28,28, 1)\n",
        "test_X = test_X.reshape(-1, 28,28, 1)\n",
        "train_X.shape, test_X.shape"
      ],
      "execution_count": null,
      "outputs": [
        {
          "output_type": "execute_result",
          "data": {
            "text/plain": [
              "((60000, 28, 28, 1), (10000, 28, 28, 1))"
            ]
          },
          "metadata": {
            "tags": []
          },
          "execution_count": 9
        }
      ]
    },
    {
      "cell_type": "code",
      "metadata": {
        "colab": {
          "base_uri": "https://localhost:8080/",
          "height": 299
        },
        "id": "5w_fq6FnQfCI",
        "outputId": "2d944990-cfe7-48f7-d51a-e8c5de1f6684"
      },
      "source": [
        "from keras.utils import to_categorical"
      ],
      "execution_count": null,
      "outputs": [
        {
          "output_type": "error",
          "ename": "ImportError",
          "evalue": "ignored",
          "traceback": [
            "\u001b[0;31m---------------------------------------------------------------------------\u001b[0m",
            "\u001b[0;31mImportError\u001b[0m                               Traceback (most recent call last)",
            "\u001b[0;32m<ipython-input-10-812bfb11e6e7>\u001b[0m in \u001b[0;36m<module>\u001b[0;34m()\u001b[0m\n\u001b[0;32m----> 1\u001b[0;31m \u001b[0;32mfrom\u001b[0m \u001b[0mkeras\u001b[0m\u001b[0;34m.\u001b[0m\u001b[0mutils\u001b[0m \u001b[0;32mimport\u001b[0m \u001b[0mto_categorical\u001b[0m\u001b[0;34m\u001b[0m\u001b[0;34m\u001b[0m\u001b[0m\n\u001b[0m",
            "\u001b[0;31mImportError\u001b[0m: cannot import name 'to_categorical' from 'keras.utils' (/usr/local/lib/python3.7/dist-packages/keras/utils/__init__.py)",
            "",
            "\u001b[0;31m---------------------------------------------------------------------------\u001b[0;32m\nNOTE: If your import is failing due to a missing package, you can\nmanually install dependencies using either !pip or !apt.\n\nTo view examples of installing some common dependencies, click the\n\"Open Examples\" button below.\n\u001b[0;31m---------------------------------------------------------------------------\u001b[0m\n"
          ]
        }
      ]
    },
    {
      "cell_type": "code",
      "metadata": {
        "id": "yeamcREiXH0S"
      },
      "source": [
        "from tensorflow.keras.utils import to_categorical"
      ],
      "execution_count": null,
      "outputs": []
    },
    {
      "cell_type": "code",
      "metadata": {
        "colab": {
          "base_uri": "https://localhost:8080/"
        },
        "id": "8hfrjxTMX6f4",
        "outputId": "db1a0acb-ea94-4897-b416-3673d36d3426"
      },
      "source": [
        "train_Y_one_hot = to_categorical(train_Y)\n",
        "test_Y_one_hot = to_categorical(test_Y)\n",
        "print('Original label:', train_Y[0])\n",
        "print('After conversion to one-hot:', train_Y_one_hot[0])"
      ],
      "execution_count": null,
      "outputs": [
        {
          "output_type": "stream",
          "text": [
            "Original label: 9\n",
            "After conversion to one-hot: [0. 0. 0. 0. 0. 0. 0. 0. 0. 1.]\n"
          ],
          "name": "stdout"
        }
      ]
    },
    {
      "cell_type": "markdown",
      "metadata": {
        "id": "u88ST-wEC-E1"
      },
      "source": [
        "0 : 1 0 0 0 0 0 0 0 0 0\n",
        "1 : 0 1 0 0 0 0 0 0 0 0\n",
        "2 : 0 0 1 0 0 0 0 0 0 0"
      ]
    },
    {
      "cell_type": "code",
      "metadata": {
        "colab": {
          "base_uri": "https://localhost:8080/"
        },
        "id": "sbKjiuKlYsvx",
        "outputId": "745c46b7-bf48-4481-8912-f4eef01fc136"
      },
      "source": [
        "from sklearn.model_selection import train_test_split\n",
        "train_X,valid_X,train_label,valid_label = train_test_split(train_X, train_Y_one_hot, test_size=0.2, random_state=13)\n",
        "train_X.shape,valid_X.shape,train_label.shape,valid_label.shape"
      ],
      "execution_count": null,
      "outputs": [
        {
          "output_type": "execute_result",
          "data": {
            "text/plain": [
              "((48000, 28, 28, 1), (12000, 28, 28, 1), (48000, 10), (12000, 10))"
            ]
          },
          "metadata": {
            "tags": []
          },
          "execution_count": 13
        }
      ]
    },
    {
      "cell_type": "markdown",
      "metadata": {
        "id": "ohGsgleHaGgZ"
      },
      "source": [
        "importing necessary modules to train the model"
      ]
    },
    {
      "cell_type": "code",
      "metadata": {
        "id": "FW4jcsZKY0M3"
      },
      "source": [
        "import keras\n",
        "from keras.models import Sequential,Input,Model\n",
        "from keras.layers import Dense, Dropout, Flatten\n",
        "from keras.layers import Conv2D, MaxPooling2D\n",
        "from keras.layers.normalization import BatchNormalization\n",
        "from keras.layers.advanced_activations import LeakyReLU"
      ],
      "execution_count": null,
      "outputs": []
    },
    {
      "cell_type": "code",
      "metadata": {
        "id": "nxEIgE7SafC9"
      },
      "source": [
        "batch_size = 64\n",
        "epochs = 20\n",
        "num_classes = 10"
      ],
      "execution_count": null,
      "outputs": []
    },
    {
      "cell_type": "markdown",
      "metadata": {
        "id": "WUGBsBCgbRi_"
      },
      "source": [
        "Neural Network Architecture\n",
        "\n",
        "The ReLU function allows the activation to be thresholded at zero. However, during the training, ReLU units can \"die\". This can happen when a large gradient flows through a ReLU neuron: it can cause the weights to update in such a way that the neuron will never activate on any data point again. If this happens, then the gradient flowing through the unit will forever be zero from that point on. Leaky ReLUs attempt to solve this: the function will not be zero but will instead have a small negative slope."
      ]
    },
    {
      "cell_type": "code",
      "metadata": {
        "id": "MQcvSNNNa-xQ"
      },
      "source": [
        "fashion_model = Sequential()\n",
        "fashion_model.add(Conv2D(32, kernel_size=(3, 3),activation='linear',input_shape=(28,28,1),padding='same'))\n",
        "fashion_model.add(LeakyReLU(alpha=0.1))\n",
        "fashion_model.add(MaxPooling2D((2, 2),padding='same'))\n",
        "fashion_model.add(Conv2D(64, (3, 3), activation='linear',padding='same'))\n",
        "fashion_model.add(LeakyReLU(alpha=0.1))\n",
        "fashion_model.add(MaxPooling2D(pool_size=(2, 2),padding='same'))\n",
        "fashion_model.add(Conv2D(128, (3, 3), activation='linear',padding='same'))\n",
        "fashion_model.add(LeakyReLU(alpha=0.1))                  \n",
        "fashion_model.add(MaxPooling2D(pool_size=(2, 2),padding='same'))\n",
        "fashion_model.add(Flatten())\n",
        "fashion_model.add(Dense(128, activation='linear'))\n",
        "fashion_model.add(LeakyReLU(alpha=0.1))                  \n",
        "fashion_model.add(Dense(num_classes, activation='softmax'))"
      ],
      "execution_count": null,
      "outputs": []
    },
    {
      "cell_type": "markdown",
      "metadata": {
        "id": "wdV71qMAeRI-"
      },
      "source": [
        "model created in last step is now compiled using Adam optimizer. categorical cross entropy is used "
      ]
    },
    {
      "cell_type": "code",
      "metadata": {
        "id": "yPRgSfSVdLtt"
      },
      "source": [
        "fashion_model.compile(loss=keras.losses.categorical_crossentropy, optimizer=keras.optimizers.Adam(),metrics=['accuracy'])"
      ],
      "execution_count": null,
      "outputs": []
    },
    {
      "cell_type": "code",
      "metadata": {
        "colab": {
          "base_uri": "https://localhost:8080/"
        },
        "id": "Bbtyph0HeMD_",
        "outputId": "36915d97-cf89-455c-d3df-fbe2842c1a80"
      },
      "source": [
        "fashion_model.summary()"
      ],
      "execution_count": null,
      "outputs": [
        {
          "output_type": "stream",
          "text": [
            "Model: \"sequential\"\n",
            "_________________________________________________________________\n",
            "Layer (type)                 Output Shape              Param #   \n",
            "=================================================================\n",
            "conv2d (Conv2D)              (None, 28, 28, 32)        320       \n",
            "_________________________________________________________________\n",
            "leaky_re_lu (LeakyReLU)      (None, 28, 28, 32)        0         \n",
            "_________________________________________________________________\n",
            "max_pooling2d (MaxPooling2D) (None, 14, 14, 32)        0         \n",
            "_________________________________________________________________\n",
            "conv2d_1 (Conv2D)            (None, 14, 14, 64)        18496     \n",
            "_________________________________________________________________\n",
            "leaky_re_lu_1 (LeakyReLU)    (None, 14, 14, 64)        0         \n",
            "_________________________________________________________________\n",
            "max_pooling2d_1 (MaxPooling2 (None, 7, 7, 64)          0         \n",
            "_________________________________________________________________\n",
            "conv2d_2 (Conv2D)            (None, 7, 7, 128)         73856     \n",
            "_________________________________________________________________\n",
            "leaky_re_lu_2 (LeakyReLU)    (None, 7, 7, 128)         0         \n",
            "_________________________________________________________________\n",
            "max_pooling2d_2 (MaxPooling2 (None, 4, 4, 128)         0         \n",
            "_________________________________________________________________\n",
            "flatten (Flatten)            (None, 2048)              0         \n",
            "_________________________________________________________________\n",
            "dense (Dense)                (None, 128)               262272    \n",
            "_________________________________________________________________\n",
            "leaky_re_lu_3 (LeakyReLU)    (None, 128)               0         \n",
            "_________________________________________________________________\n",
            "dense_1 (Dense)              (None, 10)                1290      \n",
            "=================================================================\n",
            "Total params: 356,234\n",
            "Trainable params: 356,234\n",
            "Non-trainable params: 0\n",
            "_________________________________________________________________\n"
          ],
          "name": "stdout"
        }
      ]
    },
    {
      "cell_type": "code",
      "metadata": {
        "colab": {
          "base_uri": "https://localhost:8080/"
        },
        "id": "hVY9tUMIetFc",
        "outputId": "e46bfb7b-4b6c-4ad6-db4f-cf3fbeedcbb1"
      },
      "source": [
        "fashion_train = fashion_model.fit(train_X, train_label, batch_size=batch_size,epochs=epochs,verbose=1,validation_data=(valid_X, valid_label))"
      ],
      "execution_count": null,
      "outputs": [
        {
          "output_type": "stream",
          "text": [
            "Epoch 1/20\n",
            "750/750 [==============================] - 109s 125ms/step - loss: 1.5153 - accuracy: 0.7629 - val_loss: 0.3183 - val_accuracy: 0.8873\n",
            "Epoch 2/20\n",
            "750/750 [==============================] - 93s 123ms/step - loss: 0.3011 - accuracy: 0.8894 - val_loss: 0.2856 - val_accuracy: 0.8997\n",
            "Epoch 3/20\n",
            "750/750 [==============================] - 93s 124ms/step - loss: 0.2422 - accuracy: 0.9113 - val_loss: 0.2843 - val_accuracy: 0.8992\n",
            "Epoch 4/20\n",
            "750/750 [==============================] - 93s 124ms/step - loss: 0.2214 - accuracy: 0.9181 - val_loss: 0.2921 - val_accuracy: 0.9022\n",
            "Epoch 5/20\n",
            "750/750 [==============================] - 93s 124ms/step - loss: 0.1978 - accuracy: 0.9271 - val_loss: 0.2972 - val_accuracy: 0.9006\n",
            "Epoch 6/20\n",
            "750/750 [==============================] - 93s 124ms/step - loss: 0.1767 - accuracy: 0.9345 - val_loss: 0.2720 - val_accuracy: 0.9109\n",
            "Epoch 7/20\n",
            "750/750 [==============================] - 94s 125ms/step - loss: 0.1670 - accuracy: 0.9364 - val_loss: 0.3248 - val_accuracy: 0.8999\n",
            "Epoch 8/20\n",
            "750/750 [==============================] - 93s 124ms/step - loss: 0.1440 - accuracy: 0.9453 - val_loss: 0.3244 - val_accuracy: 0.8968\n",
            "Epoch 9/20\n",
            "750/750 [==============================] - 95s 126ms/step - loss: 0.1378 - accuracy: 0.9478 - val_loss: 0.3331 - val_accuracy: 0.9052\n",
            "Epoch 10/20\n",
            "750/750 [==============================] - 94s 126ms/step - loss: 0.1294 - accuracy: 0.9516 - val_loss: 0.3252 - val_accuracy: 0.9096\n",
            "Epoch 11/20\n",
            "750/750 [==============================] - 94s 126ms/step - loss: 0.1266 - accuracy: 0.9537 - val_loss: 0.3343 - val_accuracy: 0.9078\n",
            "Epoch 12/20\n",
            "750/750 [==============================] - 94s 125ms/step - loss: 0.1085 - accuracy: 0.9595 - val_loss: 0.3584 - val_accuracy: 0.9027\n",
            "Epoch 13/20\n",
            "750/750 [==============================] - 95s 126ms/step - loss: 0.1037 - accuracy: 0.9619 - val_loss: 0.3734 - val_accuracy: 0.9073\n",
            "Epoch 14/20\n",
            "750/750 [==============================] - 94s 126ms/step - loss: 0.1087 - accuracy: 0.9595 - val_loss: 0.3725 - val_accuracy: 0.9079\n",
            "Epoch 15/20\n",
            "750/750 [==============================] - 94s 126ms/step - loss: 0.1014 - accuracy: 0.9629 - val_loss: 0.3709 - val_accuracy: 0.9124\n",
            "Epoch 16/20\n",
            "750/750 [==============================] - 95s 127ms/step - loss: 0.0837 - accuracy: 0.9687 - val_loss: 0.4248 - val_accuracy: 0.9020\n",
            "Epoch 17/20\n",
            "750/750 [==============================] - 95s 126ms/step - loss: 0.0816 - accuracy: 0.9704 - val_loss: 0.4363 - val_accuracy: 0.9068\n",
            "Epoch 18/20\n",
            "750/750 [==============================] - 95s 127ms/step - loss: 0.0778 - accuracy: 0.9726 - val_loss: 0.4582 - val_accuracy: 0.9091\n",
            "Epoch 19/20\n",
            "750/750 [==============================] - 95s 127ms/step - loss: 0.0829 - accuracy: 0.9718 - val_loss: 0.4806 - val_accuracy: 0.9103\n",
            "Epoch 20/20\n",
            "750/750 [==============================] - 96s 128ms/step - loss: 0.0799 - accuracy: 0.9716 - val_loss: 0.5445 - val_accuracy: 0.9093\n"
          ],
          "name": "stdout"
        }
      ]
    },
    {
      "cell_type": "markdown",
      "metadata": {
        "id": "8EVXnk0JnqTq"
      },
      "source": [
        "it looks like the model is overfitting, as the validation loss is 0.5445 and the validation accuracy is 90%. Overfitting gives an intuition that the network has memorized the training data very well but is not guaranteed to work on unseen data, and that is why there is a difference in the training and validation accuracy.\n",
        "model perform much better after adding a Dropout layer into the network and keeping all the other layers unchanged.\n",
        "let's evaluate the performance of your model on the test set "
      ]
    },
    {
      "cell_type": "markdown",
      "metadata": {
        "id": "jxxpqO_Hq8T8"
      },
      "source": [
        "above 750 shows no of batches..\n",
        "we get it by no of trg samples/batch size = 48000/64 = 750\n"
      ]
    },
    {
      "cell_type": "markdown",
      "metadata": {
        "id": "Bvowgy52sjQx"
      },
      "source": [
        "Now, let's evaluate the performance of the model on the test set "
      ]
    },
    {
      "cell_type": "code",
      "metadata": {
        "id": "_zwx4XNOnp6n"
      },
      "source": [
        "test_eval = fashion_model.evaluate(test_X, test_Y_one_hot, verbose=0)"
      ],
      "execution_count": null,
      "outputs": []
    },
    {
      "cell_type": "code",
      "metadata": {
        "colab": {
          "base_uri": "https://localhost:8080/"
        },
        "id": "-Q8PyOjrt2gd",
        "outputId": "a247f962-2d50-4269-e97b-07e918032f78"
      },
      "source": [
        "print('Test loss:', test_eval[0])\n",
        "print('Test accuracy:', test_eval[1])"
      ],
      "execution_count": null,
      "outputs": [
        {
          "output_type": "stream",
          "text": [
            "Test loss: 0.5507246255874634\n",
            "Test accuracy: 0.9049000144004822\n"
          ],
          "name": "stdout"
        }
      ]
    },
    {
      "cell_type": "code",
      "metadata": {
        "colab": {
          "base_uri": "https://localhost:8080/",
          "height": 545
        },
        "id": "Vzfp_BVOt5KO",
        "outputId": "c861fc94-9c28-429b-fc2b-767d68aa0ce5"
      },
      "source": [
        "accuracy = fashion_train.history['accuracy']\n",
        "val_accuracy = fashion_train.history['val_accuracy']\n",
        "loss = fashion_train.history['loss']\n",
        "val_loss = fashion_train.history['val_loss']\n",
        "epochs = range(len(accuracy))\n",
        "plt.plot(epochs, accuracy, 'bo', label='Training accuracy')\n",
        "plt.plot(epochs, val_accuracy, 'b', label='Validation accuracy')\n",
        "plt.title('Training and validation accuracy')\n",
        "plt.legend()\n",
        "plt.figure()\n",
        "plt.plot(epochs, loss, 'bo', label='Training loss')\n",
        "plt.plot(epochs, val_loss, 'b', label='Validation loss')\n",
        "plt.title('Training and validation loss')\n",
        "plt.legend()\n",
        "plt.show()"
      ],
      "execution_count": null,
      "outputs": [
        {
          "output_type": "display_data",
          "data": {
            "image/png": "[encoded data removed]",
            "text/plain": [
              "<Figure size 432x288 with 1 Axes>"
            ]
          },
          "metadata": {
            "tags": [],
            "needs_background": "light"
          }
        },
        {
          "output_type": "display_data",
          "data": {
            "image/png": "[encoded data removed]",
            "text/plain": [
              "<Figure size 432x288 with 1 Axes>"
            ]
          },
          "metadata": {
            "tags": [],
            "needs_background": "light"
          }
        }
      ]
    },
    {
      "cell_type": "code",
      "metadata": {
        "colab": {
          "base_uri": "https://localhost:8080/"
        },
        "id": "aXoNf9ukvo6g",
        "outputId": "afe955c9-8ea8-4f8c-c9f8-befc466a4978"
      },
      "source": [
        "fashion_model.save(\"fashion_train.h5py\")"
      ],
      "execution_count": null,
      "outputs": [
        {
          "output_type": "stream",
          "text": [
            "INFO:tensorflow:Assets written to: fashion_train.h5py/assets\n"
          ],
          "name": "stdout"
        }
      ]
    },
    {
      "cell_type": "code",
      "metadata": {
        "id": "cnWNHV_JwOC_"
      },
      "source": [
        "predicted_classes = fashion_model.predict(test_X)"
      ],
      "execution_count": null,
      "outputs": []
    },
    {
      "cell_type": "markdown",
      "metadata": {
        "id": "VYejroXNGQK7"
      },
      "source": [
        "0 1 0 0 0 0 0 0 0 0\n",
        "0.02 0.9 0.12 "
      ]
    },
    {
      "cell_type": "code",
      "metadata": {
        "colab": {
          "base_uri": "https://localhost:8080/"
        },
        "id": "FVrrNJ6_wbwp",
        "outputId": "06a1fa18-7775-44a8-8ea0-dae86b81a3a6"
      },
      "source": [
        "predicted_classes = np.argmax(np.round(predicted_classes),axis=1)\n",
        "predicted_classes.shape, test_Y.shape"
      ],
      "execution_count": null,
      "outputs": [
        {
          "output_type": "execute_result",
          "data": {
            "text/plain": [
              "((10000,), (10000,))"
            ]
          },
          "metadata": {
            "tags": []
          },
          "execution_count": 27
        }
      ]
    },
    {
      "cell_type": "code",
      "metadata": {
        "colab": {
          "base_uri": "https://localhost:8080/",
          "height": 313
        },
        "id": "mipMSihmx_Xb",
        "outputId": "d7bebab3-2c10-407e-e7c3-d9484432ea02"
      },
      "source": [
        "correct = np.where(predicted_classes==test_Y)[0]\n",
        "print(\"Found %d correct labels\" % len(correct))\n",
        "for i, correct in enumerate(correct[:9]):\n",
        "    plt.subplot(3,3,i+1)\n",
        "    plt.imshow(test_X[correct].reshape(28,28), cmap='gray', interpolation='none')\n",
        "    plt.title(\"Predicted {}, Class {}\".format(predicted_classes[correct], test_Y[correct]))\n",
        "    plt.tight_layout()"
      ],
      "execution_count": null,
      "outputs": [
        {
          "output_type": "stream",
          "text": [
            "Found 9043 correct labels\n"
          ],
          "name": "stdout"
        },
        {
          "output_type": "display_data",
          "data": {
            "image/png": "[encoded data removed]",
            "text/plain": [
              "<Figure size 432x288 with 9 Axes>"
            ]
          },
          "metadata": {
            "tags": [],
            "needs_background": "light"
          }
        }
      ]
    },
    {
      "cell_type": "code",
      "metadata": {
        "colab": {
          "base_uri": "https://localhost:8080/",
          "height": 313
        },
        "id": "VoT7LwgdyPEW",
        "outputId": "2e48b865-2f91-49d6-ec11-476baf9a4cde"
      },
      "source": [
        "incorrect = np.where(predicted_classes!=test_Y)[0]\n",
        "print(\"Found %d incorrect labels\" % len(incorrect))\n",
        "for i, incorrect in enumerate(incorrect[:9]):\n",
        "    plt.subplot(3,3,i+1)\n",
        "    plt.imshow(test_X[incorrect].reshape(28,28), cmap='gray', interpolation='none')\n",
        "    plt.title(\"Predicted {}, Class {}\".format(predicted_classes[incorrect], test_Y[incorrect]))\n",
        "    plt.tight_layout()"
      ],
      "execution_count": null,
      "outputs": [
        {
          "output_type": "stream",
          "text": [
            "Found 957 incorrect labels\n"
          ],
          "name": "stdout"
        },
        {
          "output_type": "display_data",
          "data": {
            "image/png": "[encoded data removed]",
            "text/plain": [
              "<Figure size 432x288 with 9 Axes>"
            ]
          },
          "metadata": {
            "tags": [],
            "needs_background": "light"
          }
        }
      ]
    },
    {
      "cell_type": "markdown",
      "metadata": {
        "id": "cxn8cvZ4yxqR"
      },
      "source": [
        "By looking at a few images, you cannot be sure as to why your model is not able to classify the above images correctly, but it seems like a variety of the similar patterns present on multiple classes affect the performance of the classifier although CNN is a robust architecture. For example, images 5 and 6 both belong to different classes but look kind of similar maybe a jacket or perhaps a long sleeve shirt."
      ]
    },
    {
      "cell_type": "markdown",
      "metadata": {
        "id": "09JZaFsRy0vq"
      },
      "source": [
        "Classification report will help us in identifying the misclassified classes in more detail. You will be able to observe for which class the model performed bad out of the given ten classes."
      ]
    },
    {
      "cell_type": "code",
      "metadata": {
        "colab": {
          "base_uri": "https://localhost:8080/"
        },
        "id": "rkVuvs3Yy60B",
        "outputId": "aa8628b7-f950-4e8a-d964-f8e7ec910ec1"
      },
      "source": [
        "from sklearn.metrics import classification_report\n",
        "target_names = [\"Class {}\".format(i) for i in range(num_classes)]\n",
        "print(classification_report(test_Y, predicted_classes, target_names=target_names))"
      ],
      "execution_count": null,
      "outputs": [
        {
          "output_type": "stream",
          "text": [
            "              precision    recall  f1-score   support\n",
            "\n",
            "     Class 0       0.81      0.90      0.85      1000\n",
            "     Class 1       0.97      0.98      0.98      1000\n",
            "     Class 2       0.88      0.82      0.85      1000\n",
            "     Class 3       0.90      0.90      0.90      1000\n",
            "     Class 4       0.82      0.90      0.86      1000\n",
            "     Class 5       0.98      0.96      0.97      1000\n",
            "     Class 6       0.80      0.68      0.74      1000\n",
            "     Class 7       0.94      0.96      0.95      1000\n",
            "     Class 8       0.98      0.97      0.98      1000\n",
            "     Class 9       0.96      0.97      0.96      1000\n",
            "\n",
            "    accuracy                           0.90     10000\n",
            "   macro avg       0.90      0.90      0.90     10000\n",
            "weighted avg       0.90      0.90      0.90     10000\n",
            "\n"
          ],
          "name": "stdout"
        }
      ]
    },
    {
      "cell_type": "markdown",
      "metadata": {
        "id": "celr_w1c0YPd"
      },
      "source": [
        "You can see that the classifier is underperforming for class 6 regarding both precision and recall. For class 0 and class 2, the classifier is lacking precision. Also, for class 4, the classifier is slightly lacking both precision and recall."
      ]
    },
    {
      "cell_type": "code",
      "metadata": {
        "id": "z1ytxV6G0ce4"
      },
      "source": [
        ""
      ],
      "execution_count": null,
      "outputs": []
    }
  ]
}